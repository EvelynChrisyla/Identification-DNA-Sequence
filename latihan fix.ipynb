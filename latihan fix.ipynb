{
 "cells": [
  {
   "cell_type": "code",
   "execution_count": 15,
   "metadata": {},
   "outputs": [
    {
     "name": "stdout",
     "output_type": "stream",
     "text": [
      "Requirement already satisfied: Biopython in c:\\users\\evelyn chrisyla\\appdata\\local\\programs\\python\\python37\\lib\\site-packages (1.81)\n",
      "Requirement already satisfied: numpy in c:\\users\\evelyn chrisyla\\appdata\\local\\programs\\python\\python37\\lib\\site-packages (from Biopython) (1.21.6)\n",
      "Note: you may need to restart the kernel to use updated packages.\n"
     ]
    },
    {
     "name": "stderr",
     "output_type": "stream",
     "text": [
      "\n",
      "[notice] A new release of pip is available: 23.0 -> 23.1.2\n",
      "[notice] To update, run: python.exe -m pip install --upgrade pip\n"
     ]
    }
   ],
   "source": [
    "%pip install Biopython\n",
    "from Bio import SeqIO\n",
    "from Bio.SeqUtils import Seq"
   ]
  },
  {
   "cell_type": "code",
   "execution_count": 20,
   "metadata": {},
   "outputs": [
    {
     "name": "stdout",
     "output_type": "stream",
     "text": [
      "CTGTGGTGTCACATCAGGAAGTACATAATGATTTGGTGAGGTGTGTGTGTGTGTGTGTGTGTGTGTGTGTGTGTGTGTGTGTGTATGTGGTGTTTATGTATAAGATTGGTCAATGGGTTCAGTCCAATCGGTTCATGTGTAGTC\n",
      "ACTTGCTTTGGCGGTGGGCCCAGCCTGCCGCCAGAGGTCTAAACTTACAACCAATTTTTTATCAACTTGTCACACCAGATTATTACTAATAGTCCAAACTTTCAACAACGGATCTCTTGGTTCTCGCATCGATGAAGAACGCAGCGAAATGCGATACGTAATATGAATTGCAGATATTCGTGAATCATCGAATCTTTGAACGCACATTGCGCCCTCTGGTATTCCGGAGGGCATGCCTGTTTGAGCGTCGTTTCTCCCTCAAACCGCTGGGTTTGGTGTTGAGCAATACGACTTGGGTTTGCTTGAAAGACGGGAGTGGTAAGGCGGGATCGCTTTGGCAATGGCTTAGGGCCAACCGAAAACATTGCTTGCCGCGGTAACGTCTACCACGTATATCTTCAAACTTTGACCTCGAATCATGTAGGACTACCCGCTGGACTTTACCGCATG\n"
     ]
    }
   ],
   "source": [
    "SeqA= (SeqIO.read(\"D16S318.fasta\",\"fasta\").seq)\n",
    "SeqB= (SeqIO.read(\"MG821630.fasta\",\"fasta\").seq)\n",
    "print(SeqA)\n",
    "print(SeqB)"
   ]
  },
  {
   "cell_type": "code",
   "execution_count": 22,
   "metadata": {},
   "outputs": [
    {
     "name": "stdout",
     "output_type": "stream",
     "text": [
      "144\n",
      "450\n"
     ]
    }
   ],
   "source": [
    "#calculate Length of both sequence\n",
    "print(len(SeqA))\n",
    "print(len(SeqB))"
   ]
  },
  {
   "cell_type": "code",
   "execution_count": 30,
   "metadata": {},
   "outputs": [
    {
     "name": "stdout",
     "output_type": "stream",
     "text": [
      "CTGTGGTGTCACATCAGGAAGTACATAATGATTTGGTGAGGTGTGTGTGTGTGTGTGTGTGTGTGTGTGTGT\n"
     ]
    }
   ],
   "source": [
    "#Slicing \n",
    "SeqASlicing = SeqA[:round(len(SeqA)/2)]\n",
    "print(SeqASlicing)"
   ]
  },
  {
   "cell_type": "code",
   "execution_count": 32,
   "metadata": {},
   "outputs": [
    {
     "name": "stdout",
     "output_type": "stream",
     "text": [
      "2\n",
      "13\n"
     ]
    }
   ],
   "source": [
    "#Find and display which index the first time the codon (GTG) appears in Sequence A and B\n",
    "print(SeqA.find(\"GTG\"))\n",
    "print(SeqB.find(\"GTG\"))"
   ]
  },
  {
   "cell_type": "code",
   "execution_count": 38,
   "metadata": {},
   "outputs": [
    {
     "name": "stdout",
     "output_type": "stream",
     "text": [
      "0\n"
     ]
    }
   ],
   "source": [
    "#Cek muncul berapa kali \n",
    "print(SeqA.count(\"GTG\"))"
   ]
  },
  {
   "cell_type": "code",
   "execution_count": 39,
   "metadata": {},
   "outputs": [
    {
     "name": "stdout",
     "output_type": "stream",
     "text": [
      "CTGTGGTGTCACATCAGGAAGTACATAATGATTTGGTGAGGTGTGTGTGTGTGTGTGTGTGTGTGTGTGTGTGTGTGTGTGTGTATGTGGTGTTTATGTATAAGATTGGTCAATGGGTTCAGTCCAATCGGTTCATGTGTAGTC\n"
     ]
    }
   ],
   "source": [
    "#replace GC diganti ke AT \n",
    "print(SeqA.replace(\"GC\",\"AT\"))"
   ]
  },
  {
   "cell_type": "code",
   "execution_count": 121,
   "metadata": {},
   "outputs": [
    {
     "name": "stdout",
     "output_type": "stream",
     "text": [
      "TACGTGTCGTACGTA\n"
     ]
    }
   ],
   "source": [
    "#Take the first 10 nucleotides from Seq A\n",
    "#5nucides from Seq B\n",
    "#Reverse it\n",
    "#Into SeqqC\n",
    "\n",
    "SeqC= ((SeqA[:10]+SeqB[-5:])[::-1])\n",
    "print(SeqC)"
   ]
  },
  {
   "cell_type": "code",
   "execution_count": 46,
   "metadata": {},
   "outputs": [],
   "source": [
    "from Bio.SeqUtils import MeltingTemp as mt\n",
    "SeqAWallace = mt.Tm_Wallace(SeqA)\n"
   ]
  },
  {
   "cell_type": "code",
   "execution_count": 50,
   "metadata": {},
   "outputs": [
    {
     "name": "stderr",
     "output_type": "stream",
     "text": [
      "c:\\Users\\Evelyn Chrisyla\\AppData\\Local\\Programs\\Python\\Python37\\lib\\site-packages\\Bio\\SeqUtils\\__init__.py:146: BiopythonDeprecationWarning: GC is deprecated; please use gc_fraction instead.\n",
      "  BiopythonDeprecationWarning,\n"
     ]
    }
   ],
   "source": [
    "from Bio.SeqUtils import GC\n",
    "\n",
    "SeqAGC = GC(SeqA)\n"
   ]
  },
  {
   "cell_type": "code",
   "execution_count": 72,
   "metadata": {},
   "outputs": [
    {
     "name": "stdout",
     "output_type": "stream",
     "text": [
      "45133.6662\n"
     ]
    }
   ],
   "source": [
    "from Bio.SeqUtils import molecular_weight as mw\n",
    "\n",
    "SeqAwight = mw(SeqA)\n",
    "print(SeqAwight)\n"
   ]
  },
  {
   "cell_type": "code",
   "execution_count": 76,
   "metadata": {},
   "outputs": [
    {
     "name": "stdout",
     "output_type": "stream",
     "text": [
      "dict_keys(['C', 'T', 'G', 'A'])\n",
      "dict_values([12, 57, 51, 24])\n"
     ]
    }
   ],
   "source": [
    "from collections import Counter \n",
    "DNASeqA = Counter(SeqA)\n",
    "print(DNASeqA.keys())\n",
    "print(DNASeqA.values())"
   ]
  },
  {
   "cell_type": "code",
   "execution_count": 77,
   "metadata": {},
   "outputs": [],
   "source": [
    "from matplotlib import pyplot as plt\n"
   ]
  },
  {
   "cell_type": "code",
   "execution_count": 81,
   "metadata": {},
   "outputs": [
    {
     "name": "stdout",
     "output_type": "stream",
     "text": [
      "CUGUGGUGUCACAUCAGGAAGUACAUAAUGAUUUGGUGAGGUGUGUGUGUGUGUGUGUGUGUGUGUGUGUGUGUGUGUGUGUGUAUGUGGUGUUUAUGUAUAAGAUUGGUCAAUGGGUUCAGUCCAAUCGGUUCAUGUGUAGUC\n",
      "GACACCACAGTGTAGTCCTTCATGTATTACTAAACCACTCCACACACACACACACACACACACACACACACACACACACACACATACACCACAAATACATATTCTAACCAGTTACCCAAGTCAGGTTAGCCAAGTACACATCAG\n"
     ]
    }
   ],
   "source": [
    "SeqAtranscibe = SeqA.transcribe()\n",
    "SeqAcomplement = SeqA.complement()\n",
    "print(SeqAtranscibe)\n",
    "\n"
   ]
  },
  {
   "cell_type": "code",
   "execution_count": 86,
   "metadata": {},
   "outputs": [
    {
     "name": "stdout",
     "output_type": "stream",
     "text": [
      "LeuTrpCysHisIleArgLysTyrIleMetIleTrpTerGlyValCysValCysValCysValCysValCysValCysValCysMetTrpCysLeuCysIleArgLeuValAsnGlyPheSerProIleGlySerCysValVal\n"
     ]
    }
   ],
   "source": [
    "from Bio.SeqUtils import seq3\n",
    "SeqAtranslate = SeqAtranscibe.translate()\n",
    "print(seq3(SeqAtranslate))\n"
   ]
  },
  {
   "cell_type": "code",
   "execution_count": 118,
   "metadata": {},
   "outputs": [
    {
     "name": "stdout",
     "output_type": "stream",
     "text": [
      "[Alignment(seqA='ATGCATGCTGCATAGCATGCGTCGA', seqB='-----------AT-GCA----T---', score=6.0, start=11, end=22), Alignment(seqA='ATGCATGCTGCATAGCATGCGTCGA', seqB='----A-------T-GCA----T---', score=6.0, start=4, end=22), Alignment(seqA='ATGCATGCTGCATAGCATGCGTCGA', seqB='A-----------T-GCA----T---', score=6.0, start=0, end=22)]\n",
      "12 ATAGCATGCGT\n",
      "   || |||    |\n",
      " 1 AT-GCA----T\n",
      "  Score=6\n",
      "\n",
      "5 ATGCTGCATAGCATGCGT\n",
      "  |       | |||    |\n",
      "1 A-------T-GCA----T\n",
      "  Score=6\n",
      "\n",
      "1 ATGCATGCTGCATAGCATGCGT\n",
      "  |           | |||    |\n",
      "1 A-----------T-GCA----T\n",
      "  Score=6\n",
      "\n"
     ]
    }
   ],
   "source": [
    "from Bio import pairwise2\n",
    "\n",
    "ScoreA = pairwise2.align.localxx(SeqA,SeqB)\n",
    "print(ScoreA)\n",
    "\n",
    "from Bio.pairwise2 import format_alignment as fa\n",
    "for alignment in ScoreA:\n",
    "    print(fa(*alignment))"
   ]
  },
  {
   "cell_type": "code",
   "execution_count": 101,
   "metadata": {},
   "outputs": [
    {
     "data": {
      "text/plain": [
       "0.9444444444444444"
      ]
     },
     "execution_count": 101,
     "metadata": {},
     "output_type": "execute_result"
    }
   ],
   "source": [
    "ScoreA / len(SeqA)\n"
   ]
  },
  {
   "cell_type": "code",
   "execution_count": 104,
   "metadata": {},
   "outputs": [
    {
     "name": "stdout",
     "output_type": "stream",
     "text": [
      "110\n"
     ]
    }
   ],
   "source": [
    "#haming \n",
    "haming = len([(SeqA,SeqB) for x,y in zip (SeqA,SeqB) if x!=y])\n",
    "print(haming)"
   ]
  },
  {
   "cell_type": "code",
   "execution_count": 112,
   "metadata": {},
   "outputs": [
    {
     "name": "stdout",
     "output_type": "stream",
     "text": [
      "Requirement already satisfied: python-Levenshtein in c:\\users\\evelyn chrisyla\\appdata\\local\\programs\\python\\python37\\lib\\site-packages (0.21.0)\n",
      "Requirement already satisfied: Levenshtein==0.21.0 in c:\\users\\evelyn chrisyla\\appdata\\local\\programs\\python\\python37\\lib\\site-packages (from python-Levenshtein) (0.21.0)\n",
      "Requirement already satisfied: rapidfuzz<4.0.0,>=2.3.0 in c:\\users\\evelyn chrisyla\\appdata\\local\\programs\\python\\python37\\lib\\site-packages (from Levenshtein==0.21.0->python-Levenshtein) (3.1.1)\n",
      "Note: you may need to restart the kernel to use updated packages.\n",
      "314\n"
     ]
    },
    {
     "name": "stderr",
     "output_type": "stream",
     "text": [
      "\n",
      "[notice] A new release of pip is available: 23.0 -> 23.1.2\n",
      "[notice] To update, run: python.exe -m pip install --upgrade pip\n"
     ]
    }
   ],
   "source": [
    "%pip install python-Levenshtein \n",
    "from Levenshtein import distance\n",
    "\n",
    "seqAdis = distance(SeqA, SeqB)\n",
    "print(seqAdis)"
   ]
  },
  {
   "cell_type": "code",
   "execution_count": 116,
   "metadata": {},
   "outputs": [
    {
     "name": "stdout",
     "output_type": "stream",
     "text": [
      "  |ATGCATGCTGCATAGCATGCGTCGA\n",
      "A|■   ■      ■ ■  ■       ■\n",
      "T| ■   ■  ■   ■    ■   ■   \n",
      "G|  ■   ■  ■    ■   ■ ■  ■ \n",
      "C|   ■   ■  ■    ■   ■  ■  \n",
      "A|■   ■      ■ ■  ■       ■\n",
      "T| ■   ■  ■   ■    ■   ■   \n"
     ]
    }
   ],
   "source": [
    "#ploting \n",
    "SeqA = \"ATGCATGCTGCATAGCATGCGTCGA\"\n",
    "SeqB = \"ATGCAT\"\n",
    "\n",
    "def dotplot(SeqA, SeqB):\n",
    "    blank = ' '\n",
    "    fill = chr(0x25A0)\n",
    "    print('  |' + SeqA)\n",
    "    for i in SeqB:\n",
    "        print(i + '|', end='')\n",
    "        for j in SeqA:\n",
    "            if i == j:\n",
    "                print(fill, end='')\n",
    "            else:\n",
    "                print(blank, end='')\n",
    "        print()\n",
    "\n",
    "dotplot(SeqA, SeqB)\n"
   ]
  }
 ],
 "metadata": {
  "kernelspec": {
   "display_name": "Python 3",
   "language": "python",
   "name": "python3"
  },
  "language_info": {
   "codemirror_mode": {
    "name": "ipython",
    "version": 3
   },
   "file_extension": ".py",
   "mimetype": "text/x-python",
   "name": "python",
   "nbconvert_exporter": "python",
   "pygments_lexer": "ipython3",
   "version": "3.7.6"
  },
  "orig_nbformat": 4
 },
 "nbformat": 4,
 "nbformat_minor": 2
}
